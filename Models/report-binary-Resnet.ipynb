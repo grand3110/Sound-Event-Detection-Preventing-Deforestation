{
 "cells": [
  {
   "cell_type": "code",
   "execution_count": null,
   "metadata": {},
   "outputs": [],
   "source": [
    "import os\n",
    "import numpy as np\n",
    "from sklearn.model_selection import train_test_split\n",
    "from keras.preprocessing.image import img_to_array, load_img\n",
    "from keras.layers import Input\n",
    "from keras.layers.normalization import BatchNormalization\n",
    "from keras.models import Sequential, Model\n",
    "from keras.layers import Dense, Conv2D, MaxPooling2D, Dropout\n",
    "from keras.layers import Flatten, Activation, add"
   ]
  },
  {
   "cell_type": "code",
   "execution_count": null,
   "metadata": {},
   "outputs": [],
   "source": [
    "import random\n",
    "\n",
    "samples = []\n",
    "labels = []\n",
    "images_folder = \"images/\"\n",
    "image_list = os.listdir(images_folder)\n",
    "random.seed(10)\n",
    "random.shuffle(image_list)\n",
    "\n",
    "for image in image_list:\n",
    "    samples.append(img_to_array(load_img(images_folder + image, target_size = (200, 200)))) # Change Target Size accordingly to the resolution.\n",
    "    if \"normal\" in image:\n",
    "        labels.append((0))\n",
    "    else:\n",
    "        labels.append((1))\n",
    "        \n",
    "samples = np.array(samples)\n",
    "labels = np.array(labels)\n",
    "eval_x, eval_y = samples[-100:], labels[-100:] # 1000 images each for Normal and Soundscape, 100 in evaluation.\n",
    "print(samples.shape, labels.shape)\n",
    "\n",
    "x_train, x_test, y_train, y_test = train_test_split(samples[:-100], labels[:-100], test_size = 0.2, random_state=31)"
   ]
  },
  {
   "cell_type": "code",
   "execution_count": null,
   "metadata": {},
   "outputs": [],
   "source": [
    "stride = 1\n",
    "CHANNEL_AXIS = 3\n",
    "\n",
    "def res_layer(x, filters, pooling = False, dropout = 0.0):\n",
    "    temp = x\n",
    "    temp = Conv2D(filters, (3,3), strides = stride, padding = \"same\")(temp)\n",
    "    temp = BatchNormalization(axis = CHANNEL_AXIS)(temp)\n",
    "    temp = Activation(\"relu\")(temp)\n",
    "    temp = Conv2D(filters, (3,3), strides = stride, padding = \"same\")(temp)\n",
    "\n",
    "    x = add([temp, Conv2D(filters, (3,3), strides = stride, padding = \"same\")(x)])\n",
    "    if pooling:\n",
    "        x = MaxPooling2D((2,2))(x)\n",
    "    if dropout != 0.0:\n",
    "        x = Dropout(dropout)(x)\n",
    "    x = BatchNormalization(axis = CHANNEL_AXIS)(x)\n",
    "    x = Activation(\"relu\")(x)\n",
    "    return x"
   ]
  },
  {
   "cell_type": "code",
   "execution_count": null,
   "metadata": {},
   "outputs": [],
   "source": [
    "%%time\n",
    "\n",
    "from keras.callbacks import History \n",
    "\n",
    "inp = Input(shape = (200,200,3))\n",
    "\n",
    "x = inp\n",
    "x = Conv2D(16,(3,3),strides = stride,padding = \"same\")(x)\n",
    "x = BatchNormalization(axis = CHANNEL_AXIS)(x)\n",
    "x = Activation(\"relu\")(x)\n",
    "x = res_layer(x, 16, dropout = 0.2)\n",
    "x = res_layer(x, 16, dropout = 0.3)\n",
    "x = res_layer(x, 16, dropout = 0.4, pooling = True)\n",
    "x = res_layer(x, 32, dropout = 0.2)\n",
    "x = res_layer(x, 32, dropout = 0.2, pooling = True)\n",
    "x = res_layer(x, 64, dropout = 0.4)\n",
    "x = Flatten()(x)\n",
    "x = Dropout(0.4)(x)\n",
    "\n",
    "x = Dense(64,activation = \"relu\")(x)\n",
    "x = Dropout(0.23)(x)\n",
    "x = Dense(1,activation = \"sigmoid\")(x)\n",
    "\n",
    "resnet_model = Model(inp,x,name = \"Resnet\")\n",
    "\n",
    "\n",
    "resnet_model.summary()\n",
    "\n",
    "resnet_model.compile(optimizer = \"adam\", loss = \"binary_crossentropy\", metrics = [\"accuracy\"])\n",
    "history = History()\n",
    "resnet_model.fit(x_train, y_train, batch_size = 32, epochs = 50, callbacks = [history], validation_data = (x_test, y_test), verbose = 1)"
   ]
  },
  {
   "cell_type": "code",
   "execution_count": null,
   "metadata": {},
   "outputs": [],
   "source": [
    "import numpy as np\n",
    "import matplotlib.pyplot as plt\n",
    "\n",
    "# plot the training loss and accuracy\n",
    "def plotResults(): \n",
    "    plt.figure()\n",
    "    N = 50\n",
    "    \n",
    "    # TODO: plot the accuracy/loss variables over training time\n",
    "    plt.plot(np.arange(0, N), history.history[\"accuracy\"], label = \"train_acc\")\n",
    "    plt.plot(np.arange(0, N), history.history[\"val_accuracy\"], label = \"val_acc\")\n",
    "\n",
    "    # make the graph understandable: \n",
    "    plt.title(\"Training Accuracy\")\n",
    "    plt.xlabel(\"Epoch #\")\n",
    "    plt.ylabel(\"Accuracy\")\n",
    "    plt.yscale('log')\n",
    "    plt.legend(loc=\"upper right\")\n",
    "    plt.show()\n",
    "    \n",
    "    plt.figure()\n",
    "    plt.plot(np.arange(0, N), history.history[\"loss\"], label = \"train_loss\")\n",
    "    plt.plot(np.arange(0, N), history.history[\"val_loss\"], label = \"val_loss\")\n",
    "    \n",
    "     # make the graph understandable: \n",
    "    plt.title(\"Training Loss\")\n",
    "    plt.xlabel(\"Epoch #\")\n",
    "    plt.ylabel(\"Loss\")\n",
    "    plt.yscale('log')\n",
    "    plt.legend(loc=\"upper right\")\n",
    "    plt.show()"
   ]
  },
  {
   "cell_type": "code",
   "execution_count": null,
   "metadata": {},
   "outputs": [],
   "source": [
    "resnet_model.save_weights('resnet-model.h5')\n",
    "plotResults()"
   ]
  },
  {
   "cell_type": "code",
   "execution_count": null,
   "metadata": {},
   "outputs": [],
   "source": [
    "from sklearn.metrics import classification_report, confusion_matrix\n",
    "from sklearn.metrics import roc_curve, roc_auc_score\n",
    "import matplotlib.pyplot as plt\n",
    "\n",
    "def evaluate_on_training_set(y_test, y_pred):\n",
    "    \n",
    "    # Calculate AUC\n",
    "    print(\"AUC  is:  \",  roc_auc_score(y_test,  y_pred))\n",
    "    \n",
    "    # print out recall and precision\n",
    "    print(classification_report(y_test, y_pred))\n",
    "    \n",
    "    # print out confusion matrix\n",
    "    print(\"Confusion Matrix: \\n\", confusion_matrix(y_test, y_pred))\n",
    "    \n",
    "    # # calculate points for ROC curve\n",
    "    fpr, tpr, thresholds = roc_curve(y_test, y_pred)\n",
    "    \n",
    "    # Plot ROC curve\n",
    "    plt.plot(fpr,  tpr,  label='ROC  curve  (area  =  %0.3f)'  %  roc_auc_score(y_test,  y_pred)) \n",
    "    plt.plot([0,  1],  [0,  1],  'k--') #  random  predictions  curve\n",
    "    plt.xlim([0.0, 1.0])\n",
    "    plt.ylim([0.0, 1.0])\n",
    "    plt.xlabel('False  Positive  Rate  or  (1  -  Specifity)') \n",
    "    plt.ylabel('True  Positive  Rate  or  (Sensitivity)') \n",
    "    plt.title('Receiver  Operating  Characteristic')\n"
   ]
  },
  {
   "cell_type": "code",
   "execution_count": null,
   "metadata": {},
   "outputs": [],
   "source": [
    "score = resnet_model.evaluate(eval_x, eval_y, verbose = 1)"
   ]
  },
  {
   "cell_type": "code",
   "execution_count": null,
   "metadata": {},
   "outputs": [],
   "source": [
    "import tensorflow as tf\n",
    "output = resnet_model.predict(eval_x, verbose = 1)\n",
    "np.argmax(output, axis = 1)\n",
    "pred_y = np.array(output).flatten()\n",
    "\n",
    "print(pred_y)"
   ]
  },
  {
   "cell_type": "code",
   "execution_count": null,
   "metadata": {},
   "outputs": [],
   "source": [
    "print(f\"Loss: {score[0]}\\nAccuracy: {score[1]}\")\n",
    "evaluate_on_training_set(eval_y, pred_y.round())"
   ]
  },
  {
   "cell_type": "code",
   "execution_count": null,
   "metadata": {},
   "outputs": [],
   "source": []
  },
  {
   "cell_type": "code",
   "execution_count": null,
   "metadata": {},
   "outputs": [],
   "source": []
  }
 ],
 "metadata": {
  "kernelspec": {
   "display_name": "Python 3",
   "language": "python",
   "name": "python3"
  },
  "language_info": {
   "codemirror_mode": {
    "name": "ipython",
    "version": 3
   },
   "file_extension": ".py",
   "mimetype": "text/x-python",
   "name": "python",
   "nbconvert_exporter": "python",
   "pygments_lexer": "ipython3",
   "version": "3.7.3"
  }
 },
 "nbformat": 4,
 "nbformat_minor": 2
}
