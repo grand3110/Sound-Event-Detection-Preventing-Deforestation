{
 "cells": [
  {
   "cell_type": "code",
   "execution_count": null,
   "metadata": {},
   "outputs": [],
   "source": [
    "import librosa.display, os, gc\n",
    "import numpy as np\n",
    "import matplotlib.pyplot as plt\n",
    "import scaper, os\n",
    "from keras.preprocessing.image import img_to_array, load_img\n",
    "from sklearn.model_selection import train_test_split\n",
    "import numpy as np\n",
    "from keras.models import Sequential\n",
    "from keras.layers import Dense, Dropout, Activation, Flatten\n",
    "from keras.layers import Convolution2D, Conv2D, MaxPooling2D, GlobalAveragePooling2D, AveragePooling2D"
   ]
  },
  {
   "cell_type": "code",
   "execution_count": null,
   "metadata": {},
   "outputs": [],
   "source": [
    "import os\n",
    "from keras.preprocessing.image import img_to_array, load_img\n",
    "from sklearn.model_selection import train_test_split\n",
    "import random\n",
    "\n",
    "samples = []\n",
    "labels = []\n",
    "images_folder = \"images/\"\n",
    "image_list = os.listdir(images_folder)\n",
    "random.seed(10)\n",
    "random.shuffle(image_list)\n",
    "\n",
    "for image in image_list:\n",
    "    samples.append(img_to_array(load_img(images_folder + image, target_size = (200, 200)))) # Change Target Size accordingly to the resolution.\n",
    "    if \"normal\" in image:\n",
    "        labels.append((0))\n",
    "    else:\n",
    "        labels.append((1))\n",
    "        \n",
    "samples = np.array(samples)\n",
    "labels = np.array(labels)\n",
    "eval_x, eval_y = samples[-100:], labels[-100:] # 1000 images each for Normal and Soundscape, 100 in evaluation.\n",
    "print(samples.shape, labels.shape)\n",
    "\n",
    "x_train, x_test, y_train, y_test = train_test_split(samples[:-100], labels[:-100], test_size = 0.2, random_state = 31)"
   ]
  },
  {
   "cell_type": "code",
   "execution_count": null,
   "metadata": {},
   "outputs": [],
   "source": [
    "from keras.layers import concatenate\n",
    "from keras.layers import Input\n",
    "from keras.models import Model\n",
    "from keras.layers.normalization import BatchNormalization\n",
    "from keras.layers import DepthwiseConv2D\n",
    "from keras.callbacks import History \n",
    "\n",
    "\n",
    "inp = Input(shape = (200, 200, 3))\n",
    "x = inp\n",
    "x = Conv2D(8, (3, 3), strides = 2, padding = \"same\", activation = \"relu\")(x)\n",
    "x = BatchNormalization(axis = 3)(x)\n",
    "x = Dropout(0.4)(x)\n",
    "x = Conv2D(16, (3, 3), strides = 1, padding = \"same\", activation = \"relu\")(x)\n",
    "x = BatchNormalization(axis = 3)(x)\n",
    "x = Dropout(0.4)(x)\n",
    "\n",
    "x1 = DepthwiseConv2D((3, 3), (1, 1), padding = \"same\", activation = \"relu\")(x)\n",
    "x = BatchNormalization(axis = 3)(x)\n",
    "x = Dropout(0.4)(x)\n",
    "x1 = DepthwiseConv2D((3, 3), (1, 1), padding = \"same\", activation = \"relu\")(x1)\n",
    "x = BatchNormalization(axis = 3)(x)\n",
    "x = Dropout(0.4)(x)\n",
    "x1 = MaxPooling2D((2, 2), strides = 1)(x1)\n",
    "\n",
    "x = concatenate([x1, Conv2D(16, (2, 2), strides = 1)(x)])\n",
    "\n",
    "x1 = Activation(\"relu\")(x)\n",
    "x1 = Conv2D(64, (3, 3), strides = 1, padding = \"same\", activation = \"relu\")(x1)\n",
    "x = BatchNormalization(axis = 3)(x)\n",
    "x = Dropout(0.4)(x)\n",
    "x1 = DepthwiseConv2D((3, 3), strides = 1, padding = \"same\", activation = \"relu\")(x1)\n",
    "x = BatchNormalization(axis = 3)(x)\n",
    "x = Dropout(0.4)(x)\n",
    "x1 = DepthwiseConv2D((3, 3), strides = 1, padding = \"same\")(x1)\n",
    "x = BatchNormalization(axis = 3)(x)\n",
    "x = Dropout(0.4)(x)\n",
    "x1 = MaxPooling2D((2, 2), strides = 1)(x1)\n",
    "\n",
    "x = concatenate([x1, Conv2D(64, (2, 2), strides = 1)(x)])\n",
    "\n",
    "\n",
    "x = Activation(\"relu\")(x)\n",
    "x = Conv2D(64, (3, 3), strides = 1, padding = \"same\", activation = \"relu\")(x)\n",
    "x = BatchNormalization(axis = 3)(x)\n",
    "x = Dropout(0.4)(x)\n",
    "x = Conv2D(32, (3, 3), strides = 1, padding = \"same\", activation = \"relu\")(x)\n",
    "x = BatchNormalization(axis = 3)(x)\n",
    "x = Dropout(0.4)(x)\n",
    "x = Flatten()(x)\n",
    "\n",
    "x = Dense(1, activation = \"sigmoid\")(x)\n",
    "\n",
    "xception = Model(inp, x)\n",
    "xception.summary()\n",
    "xception.compile(loss = \"binary_crossentropy\", optimizer = \"adam\", metrics = [\"accuracy\"])\n",
    "history = History()"
   ]
  },
  {
   "cell_type": "code",
   "execution_count": null,
   "metadata": {},
   "outputs": [],
   "source": [
    "%%time\n",
    "\n",
    "xception.fit(x_train, y_train, validation_data = (x_test, y_test), epochs = 50, callbacks = [history], batch_size = 4)"
   ]
  },
  {
   "cell_type": "code",
   "execution_count": null,
   "metadata": {},
   "outputs": [],
   "source": [
    "import numpy as np\n",
    "import matplotlib.pyplot as plt\n",
    "\n",
    "# plot the training loss and accuracy\n",
    "def plotResults(): \n",
    "    plt.figure()\n",
    "    N = 50\n",
    "    \n",
    "    # TODO: plot the accuracy/loss variables over training time\n",
    "    plt.plot(np.arange(0, N), history.history[\"accuracy\"], label = \"train_acc\")\n",
    "    plt.plot(np.arange(0, N), history.history[\"val_accuracy\"], label = \"val_acc\")\n",
    "\n",
    "    # make the graph understandable: \n",
    "    plt.title(\"Training Accuracy\")\n",
    "    plt.xlabel(\"Epoch #\")\n",
    "    plt.ylabel(\"Accuracy\")\n",
    "    plt.yscale('log')\n",
    "    plt.legend(loc=\"lower right\")\n",
    "    plt.show()\n",
    "    \n",
    "    plt.figure()\n",
    "    plt.plot(np.arange(0, N), history.history[\"loss\"], label = \"train_loss\")\n",
    "    plt.plot(np.arange(0, N), history.history[\"val_loss\"], label = \"val_loss\")\n",
    "    \n",
    "     # make the graph understandable: \n",
    "    plt.title(\"Training Loss\")\n",
    "    plt.xlabel(\"Epoch #\")\n",
    "    plt.ylabel(\"Loss\")\n",
    "    plt.yscale('log')\n",
    "    plt.legend(loc=\"upper right\")\n",
    "    plt.show()"
   ]
  },
  {
   "cell_type": "code",
   "execution_count": null,
   "metadata": {},
   "outputs": [],
   "source": [
    "xception.save_weights('xception-model.h5')\n",
    "plotResults()"
   ]
  },
  {
   "cell_type": "code",
   "execution_count": null,
   "metadata": {},
   "outputs": [],
   "source": [
    "from sklearn.metrics import classification_report, confusion_matrix\n",
    "from sklearn.metrics import roc_curve, roc_auc_score\n",
    "import matplotlib.pyplot as plt\n",
    "\n",
    "def evaluate_on_training_set(y_test, y_pred):\n",
    "    \n",
    "    # Calculate AUC\n",
    "    print(\"AUC  is:  \",  roc_auc_score(y_test,  y_pred))\n",
    "    \n",
    "    # print out recall and precision\n",
    "    print(classification_report(y_test, y_pred))\n",
    "    \n",
    "    # print out confusion matrix\n",
    "    print(\"Confusion Matrix: \\n\", confusion_matrix(y_test, y_pred))\n",
    "    \n",
    "    # # calculate points for ROC curve\n",
    "    fpr, tpr, thresholds = roc_curve(y_test, y_pred)\n",
    "    \n",
    "    # Plot ROC curve\n",
    "    plt.plot(fpr,  tpr,  label='ROC  curve  (area  =  %0.3f)'  %  roc_auc_score(y_test,  y_pred)) \n",
    "    plt.plot([0,  1],  [0,  1],  'k--') #  random  predictions  curve\n",
    "    plt.xlim([0.0, 1.0])\n",
    "    plt.ylim([0.0, 1.0])\n",
    "    plt.xlabel('False  Positive  Rate  or  (1  -  Specifity)') \n",
    "    plt.ylabel('True  Positive  Rate  or  (Sensitivity)') \n",
    "    plt.title('Receiver  Operating  Characteristic')\n"
   ]
  },
  {
   "cell_type": "code",
   "execution_count": null,
   "metadata": {},
   "outputs": [],
   "source": [
    "score = xception.evaluate(eval_x, eval_y, verbose = 1)"
   ]
  },
  {
   "cell_type": "code",
   "execution_count": null,
   "metadata": {},
   "outputs": [],
   "source": [
    "import tensorflow as tf\n",
    "output = xception.predict(eval_x, verbose = 1)\n",
    "pred_y = np.array(output).flatten()\n",
    "\n",
    "print(pred_y.round())"
   ]
  },
  {
   "cell_type": "code",
   "execution_count": null,
   "metadata": {},
   "outputs": [],
   "source": [
    "print(f\"Loss: {score[0]}\\nAccuracy: {score[1]}\")\n",
    "evaluate_on_training_set(eval_y, pred_y.round())"
   ]
  },
  {
   "cell_type": "code",
   "execution_count": null,
   "metadata": {},
   "outputs": [],
   "source": []
  }
 ],
 "metadata": {
  "kernelspec": {
   "display_name": "Python 3",
   "language": "python",
   "name": "python3"
  },
  "language_info": {
   "codemirror_mode": {
    "name": "ipython",
    "version": 3
   },
   "file_extension": ".py",
   "mimetype": "text/x-python",
   "name": "python",
   "nbconvert_exporter": "python",
   "pygments_lexer": "ipython3",
   "version": "3.7.3"
  }
 },
 "nbformat": 4,
 "nbformat_minor": 2
}
